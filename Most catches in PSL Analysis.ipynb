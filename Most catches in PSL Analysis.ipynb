{
 "cells": [
  {
   "cell_type": "code",
   "execution_count": 50,
   "metadata": {},
   "outputs": [],
   "source": [
    "# Loading required libraries\n",
    "import numpy as np\n",
    "import pandas as pd\n",
    "import matplotlib.pyplot as plt\n",
    "import seaborn as sns\n",
    "plt.rcParams['figure.figsize'] = (14, 8)"
   ]
  },
  {
   "cell_type": "code",
   "execution_count": 51,
   "metadata": {},
   "outputs": [],
   "source": [
    "# Path where the CSV file is stored\n",
    "pathoffile='Most catches in PSL.csv'"
   ]
  },
  {
   "cell_type": "code",
   "execution_count": 52,
   "metadata": {},
   "outputs": [],
   "source": [
    "# Reading the CSV file as a dataframe using pandas\n",
    "matches=pd.read_csv(pathoffile)\n"
   ]
  },
  {
   "cell_type": "code",
   "execution_count": 53,
   "metadata": {},
   "outputs": [
    {
     "data": {
      "text/plain": [
       "(50, 7)"
      ]
     },
     "execution_count": 53,
     "metadata": {},
     "output_type": "execute_result"
    }
   ],
   "source": [
    "# No. of rows and columns in the dataframe\n",
    "matches.shape"
   ]
  },
  {
   "cell_type": "code",
   "execution_count": 54,
   "metadata": {
    "scrolled": true
   },
   "outputs": [
    {
     "data": {
      "text/html": [
       "<div>\n",
       "<style scoped>\n",
       "    .dataframe tbody tr th:only-of-type {\n",
       "        vertical-align: middle;\n",
       "    }\n",
       "\n",
       "    .dataframe tbody tr th {\n",
       "        vertical-align: top;\n",
       "    }\n",
       "\n",
       "    .dataframe thead th {\n",
       "        text-align: right;\n",
       "    }\n",
       "</style>\n",
       "<table border=\"1\" class=\"dataframe\">\n",
       "  <thead>\n",
       "    <tr style=\"text-align: right;\">\n",
       "      <th></th>\n",
       "      <th>Player</th>\n",
       "      <th>Span</th>\n",
       "      <th>Mat</th>\n",
       "      <th>Inns</th>\n",
       "      <th>Catches</th>\n",
       "      <th>Max</th>\n",
       "      <th>Ct/Inn</th>\n",
       "    </tr>\n",
       "  </thead>\n",
       "  <tbody>\n",
       "    <tr>\n",
       "      <th>0</th>\n",
       "      <td>Mohammad Nawaz</td>\n",
       "      <td>2016-2020</td>\n",
       "      <td>52</td>\n",
       "      <td>52</td>\n",
       "      <td>30</td>\n",
       "      <td>3</td>\n",
       "      <td>0.576</td>\n",
       "    </tr>\n",
       "    <tr>\n",
       "      <th>1</th>\n",
       "      <td>Babar Azam</td>\n",
       "      <td>2016-2020</td>\n",
       "      <td>47</td>\n",
       "      <td>46</td>\n",
       "      <td>25</td>\n",
       "      <td>4</td>\n",
       "      <td>0.543</td>\n",
       "    </tr>\n",
       "    <tr>\n",
       "      <th>2</th>\n",
       "      <td>KA Pollard</td>\n",
       "      <td>2017-2019</td>\n",
       "      <td>33</td>\n",
       "      <td>32</td>\n",
       "      <td>24</td>\n",
       "      <td>4</td>\n",
       "      <td>0.750</td>\n",
       "    </tr>\n",
       "    <tr>\n",
       "      <th>3</th>\n",
       "      <td>Mohammad Hafeez</td>\n",
       "      <td>2016-2020</td>\n",
       "      <td>48</td>\n",
       "      <td>47</td>\n",
       "      <td>21</td>\n",
       "      <td>3</td>\n",
       "      <td>0.446</td>\n",
       "    </tr>\n",
       "    <tr>\n",
       "      <th>4</th>\n",
       "      <td>Asif Ali</td>\n",
       "      <td>2016-2020</td>\n",
       "      <td>43</td>\n",
       "      <td>43</td>\n",
       "      <td>20</td>\n",
       "      <td>2</td>\n",
       "      <td>0.465</td>\n",
       "    </tr>\n",
       "    <tr>\n",
       "      <th>5</th>\n",
       "      <td>Ahmed Shehzad</td>\n",
       "      <td>2016-2020</td>\n",
       "      <td>45</td>\n",
       "      <td>44</td>\n",
       "      <td>20</td>\n",
       "      <td>2</td>\n",
       "      <td>0.454</td>\n",
       "    </tr>\n",
       "    <tr>\n",
       "      <th>6</th>\n",
       "      <td>Umar Akmal</td>\n",
       "      <td>2016-2019</td>\n",
       "      <td>32</td>\n",
       "      <td>31</td>\n",
       "      <td>19</td>\n",
       "      <td>2</td>\n",
       "      <td>0.612</td>\n",
       "    </tr>\n",
       "    <tr>\n",
       "      <th>7</th>\n",
       "      <td>Fakhar Zaman</td>\n",
       "      <td>2017-2020</td>\n",
       "      <td>40</td>\n",
       "      <td>40</td>\n",
       "      <td>19</td>\n",
       "      <td>2</td>\n",
       "      <td>0.475</td>\n",
       "    </tr>\n",
       "    <tr>\n",
       "      <th>8</th>\n",
       "      <td>CJ Jordan</td>\n",
       "      <td>2017-2020</td>\n",
       "      <td>22</td>\n",
       "      <td>22</td>\n",
       "      <td>18</td>\n",
       "      <td>3</td>\n",
       "      <td>0.818</td>\n",
       "    </tr>\n",
       "    <tr>\n",
       "      <th>9</th>\n",
       "      <td>Wahab Riaz</td>\n",
       "      <td>2016-2020</td>\n",
       "      <td>55</td>\n",
       "      <td>54</td>\n",
       "      <td>18</td>\n",
       "      <td>3</td>\n",
       "      <td>0.333</td>\n",
       "    </tr>\n",
       "  </tbody>\n",
       "</table>\n",
       "</div>"
      ],
      "text/plain": [
       "            Player       Span  Mat  Inns  Catches  Max  Ct/Inn\n",
       "0   Mohammad Nawaz  2016-2020   52    52       30    3   0.576\n",
       "1       Babar Azam  2016-2020   47    46       25    4   0.543\n",
       "2       KA Pollard  2017-2019   33    32       24    4   0.750\n",
       "3  Mohammad Hafeez  2016-2020   48    47       21    3   0.446\n",
       "4         Asif Ali  2016-2020   43    43       20    2   0.465\n",
       "5    Ahmed Shehzad  2016-2020   45    44       20    2   0.454\n",
       "6       Umar Akmal  2016-2019   32    31       19    2   0.612\n",
       "7     Fakhar Zaman  2017-2020   40    40       19    2   0.475\n",
       "8        CJ Jordan  2017-2020   22    22       18    3   0.818\n",
       "9       Wahab Riaz  2016-2020   55    54       18    3   0.333"
      ]
     },
     "execution_count": 54,
     "metadata": {},
     "output_type": "execute_result"
    }
   ],
   "source": [
    "# Head of dataset with yo 10 entries\n",
    "matches.head(10)\n"
   ]
  },
  {
   "cell_type": "code",
   "execution_count": 55,
   "metadata": {},
   "outputs": [
    {
     "data": {
      "text/html": [
       "<div>\n",
       "<style scoped>\n",
       "    .dataframe tbody tr th:only-of-type {\n",
       "        vertical-align: middle;\n",
       "    }\n",
       "\n",
       "    .dataframe tbody tr th {\n",
       "        vertical-align: top;\n",
       "    }\n",
       "\n",
       "    .dataframe thead th {\n",
       "        text-align: right;\n",
       "    }\n",
       "</style>\n",
       "<table border=\"1\" class=\"dataframe\">\n",
       "  <thead>\n",
       "    <tr style=\"text-align: right;\">\n",
       "      <th></th>\n",
       "      <th>Mat</th>\n",
       "      <th>Inns</th>\n",
       "      <th>Catches</th>\n",
       "      <th>Max</th>\n",
       "      <th>Ct/Inn</th>\n",
       "    </tr>\n",
       "  </thead>\n",
       "  <tbody>\n",
       "    <tr>\n",
       "      <th>count</th>\n",
       "      <td>50.000000</td>\n",
       "      <td>50.000000</td>\n",
       "      <td>50.000000</td>\n",
       "      <td>50.00000</td>\n",
       "      <td>50.000000</td>\n",
       "    </tr>\n",
       "    <tr>\n",
       "      <th>mean</th>\n",
       "      <td>30.800000</td>\n",
       "      <td>30.340000</td>\n",
       "      <td>12.500000</td>\n",
       "      <td>2.28000</td>\n",
       "      <td>0.448080</td>\n",
       "    </tr>\n",
       "    <tr>\n",
       "      <th>std</th>\n",
       "      <td>12.657175</td>\n",
       "      <td>12.399161</td>\n",
       "      <td>5.319391</td>\n",
       "      <td>0.70102</td>\n",
       "      <td>0.170621</td>\n",
       "    </tr>\n",
       "    <tr>\n",
       "      <th>min</th>\n",
       "      <td>7.000000</td>\n",
       "      <td>7.000000</td>\n",
       "      <td>7.000000</td>\n",
       "      <td>1.00000</td>\n",
       "      <td>0.212000</td>\n",
       "    </tr>\n",
       "    <tr>\n",
       "      <th>25%</th>\n",
       "      <td>20.000000</td>\n",
       "      <td>20.000000</td>\n",
       "      <td>8.250000</td>\n",
       "      <td>2.00000</td>\n",
       "      <td>0.334750</td>\n",
       "    </tr>\n",
       "    <tr>\n",
       "      <th>50%</th>\n",
       "      <td>30.000000</td>\n",
       "      <td>30.000000</td>\n",
       "      <td>11.000000</td>\n",
       "      <td>2.00000</td>\n",
       "      <td>0.394000</td>\n",
       "    </tr>\n",
       "    <tr>\n",
       "      <th>75%</th>\n",
       "      <td>42.500000</td>\n",
       "      <td>42.500000</td>\n",
       "      <td>15.000000</td>\n",
       "      <td>3.00000</td>\n",
       "      <td>0.519500</td>\n",
       "    </tr>\n",
       "    <tr>\n",
       "      <th>max</th>\n",
       "      <td>55.000000</td>\n",
       "      <td>54.000000</td>\n",
       "      <td>30.000000</td>\n",
       "      <td>4.00000</td>\n",
       "      <td>1.000000</td>\n",
       "    </tr>\n",
       "  </tbody>\n",
       "</table>\n",
       "</div>"
      ],
      "text/plain": [
       "             Mat       Inns    Catches       Max     Ct/Inn\n",
       "count  50.000000  50.000000  50.000000  50.00000  50.000000\n",
       "mean   30.800000  30.340000  12.500000   2.28000   0.448080\n",
       "std    12.657175  12.399161   5.319391   0.70102   0.170621\n",
       "min     7.000000   7.000000   7.000000   1.00000   0.212000\n",
       "25%    20.000000  20.000000   8.250000   2.00000   0.334750\n",
       "50%    30.000000  30.000000  11.000000   2.00000   0.394000\n",
       "75%    42.500000  42.500000  15.000000   3.00000   0.519500\n",
       "max    55.000000  54.000000  30.000000   4.00000   1.000000"
      ]
     },
     "execution_count": 55,
     "metadata": {},
     "output_type": "execute_result"
    }
   ],
   "source": [
    "#Describe the data\n",
    "matches.describe()"
   ]
  },
  {
   "cell_type": "code",
   "execution_count": 56,
   "metadata": {},
   "outputs": [
    {
     "name": "stdout",
     "output_type": "stream",
     "text": [
      "<class 'pandas.core.frame.DataFrame'>\n",
      "RangeIndex: 50 entries, 0 to 49\n",
      "Data columns (total 7 columns):\n",
      " #   Column   Non-Null Count  Dtype  \n",
      "---  ------   --------------  -----  \n",
      " 0   Player   50 non-null     object \n",
      " 1   Span     50 non-null     object \n",
      " 2   Mat      50 non-null     int64  \n",
      " 3   Inns     50 non-null     int64  \n",
      " 4   Catches  50 non-null     int64  \n",
      " 5   Max      50 non-null     int64  \n",
      " 6   Ct/Inn   50 non-null     float64\n",
      "dtypes: float64(1), int64(4), object(2)\n",
      "memory usage: 2.9+ KB\n"
     ]
    }
   ],
   "source": [
    "# Types of data type\n",
    "matches.info()"
   ]
  },
  {
   "cell_type": "code",
   "execution_count": 57,
   "metadata": {},
   "outputs": [
    {
     "data": {
      "text/plain": [
       "array(['Mohammad Nawaz', 'Babar Azam', 'KA Pollard', 'Mohammad Hafeez',\n",
       "       'Asif Ali', 'Ahmed Shehzad', 'Umar Akmal', 'Fakhar Zaman',\n",
       "       'CJ Jordan', 'Wahab Riaz', 'RS Bopara', 'DJG Sammy', 'Shadab Khan',\n",
       "       'Hasan Ali', 'Hassan Khan', 'Shahid Afridi', 'JM Vince',\n",
       "       'LA Dawson', 'Anwar Ali', 'Sohail Tanvir', 'SR Patel', 'CA Ingram',\n",
       "       'Sohail Akhtar', 'Mohammad Sami', 'RR Rossouw', 'Imad Wasim',\n",
       "       'Shan Masood', 'AD Hales', 'LS Livingstone', 'Hussain Talat',\n",
       "       'Misbah-ul-Haq', 'Faheem Ashraf', 'Rumman Raees', 'SR Watson',\n",
       "       'Shoaib Malik', 'D Wiese', 'Iftikhar Ahmed', 'JP Duminy',\n",
       "       'JL Denly', 'Amad Butt', 'AD Russell', 'DJ Malan', 'Umar Amin',\n",
       "       'Mohammad Asghar', 'DR Smith', 'T Banton', 'JJ Roy',\n",
       "       'Zulfiqar Babar', 'TS Mills', 'Sohaib Maqsood'], dtype=object)"
      ]
     },
     "execution_count": 57,
     "metadata": {},
     "output_type": "execute_result"
    }
   ],
   "source": [
    "# Players Names\n",
    "matches['Player'].unique()"
   ]
  },
  {
   "cell_type": "code",
   "execution_count": 67,
   "metadata": {},
   "outputs": [
    {
     "data": {
      "text/plain": [
       "array(['2016-2020', '2017-2019', '2016-2019', '2017-2020', '2018-2020',\n",
       "       '2019-2020', '2018-2018', '2016-2018', '2020-2020', '2016-2017'],\n",
       "      dtype=object)"
      ]
     },
     "execution_count": 67,
     "metadata": {},
     "output_type": "execute_result"
    }
   ],
   "source": [
    "# Total Span \n",
    "matches['Span'].unique()"
   ]
  },
  {
   "cell_type": "code",
   "execution_count": 58,
   "metadata": {},
   "outputs": [
    {
     "data": {
      "text/plain": [
       "50"
      ]
     },
     "execution_count": 58,
     "metadata": {},
     "output_type": "execute_result"
    }
   ],
   "source": [
    "# Total Players\n",
    "matches['Player'].unique().size"
   ]
  },
  {
   "cell_type": "code",
   "execution_count": 59,
   "metadata": {},
   "outputs": [
    {
     "data": {
      "text/html": [
       "<div>\n",
       "<style scoped>\n",
       "    .dataframe tbody tr th:only-of-type {\n",
       "        vertical-align: middle;\n",
       "    }\n",
       "\n",
       "    .dataframe tbody tr th {\n",
       "        vertical-align: top;\n",
       "    }\n",
       "\n",
       "    .dataframe thead th {\n",
       "        text-align: right;\n",
       "    }\n",
       "</style>\n",
       "<table border=\"1\" class=\"dataframe\">\n",
       "  <thead>\n",
       "    <tr style=\"text-align: right;\">\n",
       "      <th></th>\n",
       "      <th>Player</th>\n",
       "      <th>Span</th>\n",
       "      <th>Mat</th>\n",
       "      <th>Inns</th>\n",
       "      <th>Catches</th>\n",
       "      <th>Max</th>\n",
       "      <th>Ct/Inn</th>\n",
       "    </tr>\n",
       "  </thead>\n",
       "  <tbody>\n",
       "    <tr>\n",
       "      <th>0</th>\n",
       "      <td>Mohammad Nawaz</td>\n",
       "      <td>2016-2020</td>\n",
       "      <td>52</td>\n",
       "      <td>52</td>\n",
       "      <td>30</td>\n",
       "      <td>3</td>\n",
       "      <td>0.576</td>\n",
       "    </tr>\n",
       "  </tbody>\n",
       "</table>\n",
       "</div>"
      ],
      "text/plain": [
       "           Player       Span  Mat  Inns  Catches  Max  Ct/Inn\n",
       "0  Mohammad Nawaz  2016-2020   52    52       30    3   0.576"
      ]
     },
     "execution_count": 59,
     "metadata": {},
     "output_type": "execute_result"
    }
   ],
   "source": [
    "# Top player with highest \n",
    "max_catch=max(matches['Catches'])\n",
    "matches[matches['Catches']==max_catch]"
   ]
  },
  {
   "cell_type": "code",
   "execution_count": 60,
   "metadata": {},
   "outputs": [
    {
     "data": {
      "text/plain": [
       "625"
      ]
     },
     "execution_count": 60,
     "metadata": {},
     "output_type": "execute_result"
    }
   ],
   "source": [
    "# Total Catches in the dataset\n",
    "matches['Catches'].sum()"
   ]
  },
  {
   "cell_type": "code",
   "execution_count": 61,
   "metadata": {},
   "outputs": [
    {
     "data": {
      "text/plain": [
       "12.5"
      ]
     },
     "execution_count": 61,
     "metadata": {},
     "output_type": "execute_result"
    }
   ],
   "source": [
    "#Mean of catches\n",
    "matches['Catches'].mean()"
   ]
  },
  {
   "cell_type": "code",
   "execution_count": 62,
   "metadata": {},
   "outputs": [
    {
     "data": {
      "text/html": [
       "<div>\n",
       "<style scoped>\n",
       "    .dataframe tbody tr th:only-of-type {\n",
       "        vertical-align: middle;\n",
       "    }\n",
       "\n",
       "    .dataframe tbody tr th {\n",
       "        vertical-align: top;\n",
       "    }\n",
       "\n",
       "    .dataframe thead th {\n",
       "        text-align: right;\n",
       "    }\n",
       "</style>\n",
       "<table border=\"1\" class=\"dataframe\">\n",
       "  <thead>\n",
       "    <tr style=\"text-align: right;\">\n",
       "      <th></th>\n",
       "      <th>Player</th>\n",
       "      <th>Catches</th>\n",
       "    </tr>\n",
       "  </thead>\n",
       "  <tbody>\n",
       "    <tr>\n",
       "      <th>0</th>\n",
       "      <td>Mohammad Nawaz</td>\n",
       "      <td>30</td>\n",
       "    </tr>\n",
       "    <tr>\n",
       "      <th>1</th>\n",
       "      <td>Babar Azam</td>\n",
       "      <td>25</td>\n",
       "    </tr>\n",
       "    <tr>\n",
       "      <th>2</th>\n",
       "      <td>KA Pollard</td>\n",
       "      <td>24</td>\n",
       "    </tr>\n",
       "    <tr>\n",
       "      <th>3</th>\n",
       "      <td>Mohammad Hafeez</td>\n",
       "      <td>21</td>\n",
       "    </tr>\n",
       "    <tr>\n",
       "      <th>4</th>\n",
       "      <td>Asif Ali</td>\n",
       "      <td>20</td>\n",
       "    </tr>\n",
       "    <tr>\n",
       "      <th>5</th>\n",
       "      <td>Ahmed Shehzad</td>\n",
       "      <td>20</td>\n",
       "    </tr>\n",
       "    <tr>\n",
       "      <th>6</th>\n",
       "      <td>Umar Akmal</td>\n",
       "      <td>19</td>\n",
       "    </tr>\n",
       "    <tr>\n",
       "      <th>7</th>\n",
       "      <td>Fakhar Zaman</td>\n",
       "      <td>19</td>\n",
       "    </tr>\n",
       "    <tr>\n",
       "      <th>8</th>\n",
       "      <td>CJ Jordan</td>\n",
       "      <td>18</td>\n",
       "    </tr>\n",
       "    <tr>\n",
       "      <th>9</th>\n",
       "      <td>Wahab Riaz</td>\n",
       "      <td>18</td>\n",
       "    </tr>\n",
       "  </tbody>\n",
       "</table>\n",
       "</div>"
      ],
      "text/plain": [
       "            Player  Catches\n",
       "0   Mohammad Nawaz       30\n",
       "1       Babar Azam       25\n",
       "2       KA Pollard       24\n",
       "3  Mohammad Hafeez       21\n",
       "4         Asif Ali       20\n",
       "5    Ahmed Shehzad       20\n",
       "6       Umar Akmal       19\n",
       "7     Fakhar Zaman       19\n",
       "8        CJ Jordan       18\n",
       "9       Wahab Riaz       18"
      ]
     },
     "execution_count": 62,
     "metadata": {},
     "output_type": "execute_result"
    }
   ],
   "source": [
    "#top 10 palyesrs with catch\n",
    "matches2=matches.sort_values(by='Catches',ascending=False).head(10)\n",
    "matches2[['Player','Catches']]"
   ]
  },
  {
   "cell_type": "code",
   "execution_count": 63,
   "metadata": {},
   "outputs": [
    {
     "data": {
      "image/png": "[encoded data removed]",
      "text/plain": [
       "<Figure size 1400x800 with 1 Axes>"
      ]
     },
     "metadata": {},
     "output_type": "display_data"
    }
   ],
   "source": [
    "# Plot to visualise the no. of matches held in each city\n",
    "sns.barplot(x='Player', y=\"Catches\" ,data=matches2)\n",
    "plt.title('Top Ten Players with most catches\\n')\n",
    "plt.xlabel('Players\\n')\n",
    "plt.ylabel('Catches\\n')\n",
    "\n",
    "plt.show()"
   ]
  },
  {
   "cell_type": "code",
   "execution_count": 64,
   "metadata": {},
   "outputs": [
    {
     "data": {
      "image/png": "[encoded data removed]",
      "text/plain": [
       "<Figure size 1400x800 with 1 Axes>"
      ]
     },
     "metadata": {},
     "output_type": "display_data"
    }
   ],
   "source": [
    "# Plot to visualise the no. of matches held every span\n",
    "sns.countplot(x='Span', data=matches)\n",
    "plt.title('No. of matches held every Span\\n')\n",
    "plt.xlabel('\\nSeason')\n",
    "plt.ylabel('No. of matches held\\n')\n",
    "plt.show()"
   ]
  }
 ],
 "metadata": {
  "kernelspec": {
   "display_name": "Python 3",
   "language": "python",
   "name": "python3"
  },
  "language_info": {
   "codemirror_mode": {
    "name": "ipython",
    "version": 3
   },
   "file_extension": ".py",
   "mimetype": "text/x-python",
   "name": "python",
   "nbconvert_exporter": "python",
   "pygments_lexer": "ipython3",
   "version": "3.11.1"
  },
  "vscode": {
   "interpreter": {
    "hash": "691469e7419ae3730ccc1b59af72dc6da0316ade5c929ef8e3ab2c9b81418259"
   }
  }
 },
 "nbformat": 4,
 "nbformat_minor": 2
}
